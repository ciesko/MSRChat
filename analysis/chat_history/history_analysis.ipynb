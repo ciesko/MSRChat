{
 "cells": [
  {
   "cell_type": "markdown",
   "metadata": {},
   "source": [
    "## Setup and init"
   ]
  },
  {
   "cell_type": "markdown",
   "metadata": {},
   "source": [
    "### Environment and dependencies\n",
    "\n",
    "1. Create and activate a vitual env, e.g., `python -m venv .venv`\n",
    "1. Install dependencies with `pip install -r requirements-dev.txt`\n",
    "1. Copy `.env.example` and rename to `.env`.\n",
    "  1. Provide the required values using the target Cosmos DB that has the conversations data you're interested in."
   ]
  },
  {
   "cell_type": "markdown",
   "metadata": {},
   "source": [
    "## Get conversation data"
   ]
  },
  {
   "cell_type": "code",
   "execution_count": null,
   "metadata": {},
   "outputs": [],
   "source": [
    "from history import *\n",
    "from dotenv import load_dotenv\n",
    "import pandas as pd\n",
    "import json\n",
    "\n",
    "load_dotenv()   "
   ]
  },
  {
   "cell_type": "markdown",
   "metadata": {},
   "source": [
    "### Date filtering\n",
    "\n",
    "Results can be filtered by start and/or end dates. Providing a value for both will return conversations between the two dates, inclusive. Passing `None` for one and a value for the other will produce a before or after filter accordingly. Passing `None` for both will return all results. \n",
    "\n",
    "Note that dates can be simple, like `2024-01-30`, but can also be more targeted by providing time details, like `2024-01-30T10:15:00Z`."
   ]
  },
  {
   "cell_type": "code",
   "execution_count": 2,
   "metadata": {},
   "outputs": [],
   "source": [
    "# Get conversations for a date range (also supports only one date being provided)\n",
    "start_date = pd.to_datetime(\"2024-01-29\")\n",
    "end_date = pd.to_datetime(\"2024-01-30\")\n",
    "\n",
    "# Uncomment to use None for start_date and end_date to get all conversations\n",
    "# start_date = None\n",
    "# end_date = None"
   ]
  },
  {
   "cell_type": "markdown",
   "metadata": {},
   "source": [
    "### Query"
   ]
  },
  {
   "cell_type": "code",
   "execution_count": 5,
   "metadata": {},
   "outputs": [
    {
     "data": {
      "text/html": [
       "<div>\n",
       "<style scoped>\n",
       "    .dataframe tbody tr th:only-of-type {\n",
       "        vertical-align: middle;\n",
       "    }\n",
       "\n",
       "    .dataframe tbody tr th {\n",
       "        vertical-align: top;\n",
       "    }\n",
       "\n",
       "    .dataframe thead th {\n",
       "        text-align: right;\n",
       "    }\n",
       "</style>\n",
       "<table border=\"1\" class=\"dataframe\">\n",
       "  <thead>\n",
       "    <tr style=\"text-align: right;\">\n",
       "      <th></th>\n",
       "      <th>id</th>\n",
       "      <th>timestamp</th>\n",
       "      <th>response_timestamp</th>\n",
       "      <th>user_query</th>\n",
       "      <th>conversation_id</th>\n",
       "      <th>context</th>\n",
       "      <th>chat_response</th>\n",
       "    </tr>\n",
       "  </thead>\n",
       "  <tbody>\n",
       "    <tr>\n",
       "      <th>0</th>\n",
       "      <td>c515b325-31d8-4902-8eb0-bfdf8aa91551</td>\n",
       "      <td>2024-01-29T23:59:31.206075</td>\n",
       "      <td>2024-01-29T23:59:54.315737</td>\n",
       "      <td>{'id': 'ecccf511-35f3-a6e8-2881-02af2addf17a',...</td>\n",
       "      <td>ecccf511-35f3-a6e8-2881-02af2addf17a</td>\n",
       "      <td>{'citations': [{'content': 'Microsoft Research...</td>\n",
       "      <td>{'id': '', 'model': 'gpt-4', 'created': 170657...</td>\n",
       "    </tr>\n",
       "    <tr>\n",
       "      <th>1</th>\n",
       "      <td>030777f3-f05a-4177-bd8a-57ff4f418262</td>\n",
       "      <td>2024-01-29T23:57:41.405727</td>\n",
       "      <td>2024-01-29T23:58:13.572655</td>\n",
       "      <td>{'id': 'fcdd1c9d-dff4-73c4-a137-9dba99990983',...</td>\n",
       "      <td>fcdd1c9d-dff4-73c4-a137-9dba99990983</td>\n",
       "      <td>{'citations': [{'content': '. \n",
       "GPT -4 and the ...</td>\n",
       "      <td>{'id': '', 'model': 'gpt-4', 'created': 170657...</td>\n",
       "    </tr>\n",
       "    <tr>\n",
       "      <th>2</th>\n",
       "      <td>6e8e6bd7-56e8-4abd-845e-a5e6649d8a8a</td>\n",
       "      <td>2024-01-29T23:56:22.674996</td>\n",
       "      <td>2024-01-29T23:57:08.228601</td>\n",
       "      <td>{'id': '508917c2-bc62-ecda-bb98-d6f940379334',...</td>\n",
       "      <td>c3cb145e-63be-cc87-7cba-4ca2f15d0f78</td>\n",
       "      <td>{'citations': [{'content': 'Title: Research Fo...</td>\n",
       "      <td>{'id': '', 'model': 'gpt-4', 'created': 170657...</td>\n",
       "    </tr>\n",
       "  </tbody>\n",
       "</table>\n",
       "</div>"
      ],
      "text/plain": [
       "                                     id                   timestamp  \\\n",
       "0  c515b325-31d8-4902-8eb0-bfdf8aa91551  2024-01-29T23:59:31.206075   \n",
       "1  030777f3-f05a-4177-bd8a-57ff4f418262  2024-01-29T23:57:41.405727   \n",
       "2  6e8e6bd7-56e8-4abd-845e-a5e6649d8a8a  2024-01-29T23:56:22.674996   \n",
       "\n",
       "           response_timestamp  \\\n",
       "0  2024-01-29T23:59:54.315737   \n",
       "1  2024-01-29T23:58:13.572655   \n",
       "2  2024-01-29T23:57:08.228601   \n",
       "\n",
       "                                          user_query  \\\n",
       "0  {'id': 'ecccf511-35f3-a6e8-2881-02af2addf17a',...   \n",
       "1  {'id': 'fcdd1c9d-dff4-73c4-a137-9dba99990983',...   \n",
       "2  {'id': '508917c2-bc62-ecda-bb98-d6f940379334',...   \n",
       "\n",
       "                        conversation_id  \\\n",
       "0  ecccf511-35f3-a6e8-2881-02af2addf17a   \n",
       "1  fcdd1c9d-dff4-73c4-a137-9dba99990983   \n",
       "2  c3cb145e-63be-cc87-7cba-4ca2f15d0f78   \n",
       "\n",
       "                                             context  \\\n",
       "0  {'citations': [{'content': 'Microsoft Research...   \n",
       "1  {'citations': [{'content': '. \n",
       "GPT -4 and the ...   \n",
       "2  {'citations': [{'content': 'Title: Research Fo...   \n",
       "\n",
       "                                       chat_response  \n",
       "0  {'id': '', 'model': 'gpt-4', 'created': 170657...  \n",
       "1  {'id': '', 'model': 'gpt-4', 'created': 170657...  \n",
       "2  {'id': '', 'model': 'gpt-4', 'created': 170657...  "
      ]
     },
     "execution_count": 5,
     "metadata": {},
     "output_type": "execute_result"
    }
   ],
   "source": [
    "dataset = got_conversations(start_date=start_date, end_date=end_date)\n",
    "df = pd.DataFrame(dataset)\n",
    "\n",
    "df.head(3)"
   ]
  },
  {
   "cell_type": "markdown",
   "metadata": {},
   "source": [
    "### Extend with calculated colums"
   ]
  },
  {
   "cell_type": "code",
   "execution_count": 6,
   "metadata": {},
   "outputs": [
    {
     "data": {
      "text/html": [
       "<div>\n",
       "<style scoped>\n",
       "    .dataframe tbody tr th:only-of-type {\n",
       "        vertical-align: middle;\n",
       "    }\n",
       "\n",
       "    .dataframe tbody tr th {\n",
       "        vertical-align: top;\n",
       "    }\n",
       "\n",
       "    .dataframe thead th {\n",
       "        text-align: right;\n",
       "    }\n",
       "</style>\n",
       "<table border=\"1\" class=\"dataframe\">\n",
       "  <thead>\n",
       "    <tr style=\"text-align: right;\">\n",
       "      <th></th>\n",
       "      <th>id</th>\n",
       "      <th>timestamp</th>\n",
       "      <th>response_timestamp</th>\n",
       "      <th>user_query</th>\n",
       "      <th>conversation_id</th>\n",
       "      <th>context</th>\n",
       "      <th>chat_response</th>\n",
       "      <th>user_input</th>\n",
       "      <th>answer</th>\n",
       "      <th>duration</th>\n",
       "      <th>turn_count</th>\n",
       "    </tr>\n",
       "  </thead>\n",
       "  <tbody>\n",
       "    <tr>\n",
       "      <th>0</th>\n",
       "      <td>c515b325-31d8-4902-8eb0-bfdf8aa91551</td>\n",
       "      <td>2024-01-29 23:59:31.206075</td>\n",
       "      <td>2024-01-29 23:59:54.315737</td>\n",
       "      <td>{'id': 'ecccf511-35f3-a6e8-2881-02af2addf17a',...</td>\n",
       "      <td>ecccf511-35f3-a6e8-2881-02af2addf17a</td>\n",
       "      <td>{'citations': [{'content': 'Microsoft Research...</td>\n",
       "      <td>{'id': '', 'model': 'gpt-4', 'created': 170657...</td>\n",
       "      <td>What kind of problems is MSR's AI research try...</td>\n",
       "      <td>Microsoft Research's AI research is focused on...</td>\n",
       "      <td>23.109662</td>\n",
       "      <td>1</td>\n",
       "    </tr>\n",
       "    <tr>\n",
       "      <th>1</th>\n",
       "      <td>030777f3-f05a-4177-bd8a-57ff4f418262</td>\n",
       "      <td>2024-01-29 23:57:41.405727</td>\n",
       "      <td>2024-01-29 23:58:13.572655</td>\n",
       "      <td>{'id': 'fcdd1c9d-dff4-73c4-a137-9dba99990983',...</td>\n",
       "      <td>fcdd1c9d-dff4-73c4-a137-9dba99990983</td>\n",
       "      <td>{'citations': [{'content': '. \n",
       "GPT -4 and the ...</td>\n",
       "      <td>{'id': '', 'model': 'gpt-4', 'created': 170657...</td>\n",
       "      <td>Can you summarize the key challenges tackled b...</td>\n",
       "      <td>The Microsoft Research Forum for this year add...</td>\n",
       "      <td>32.166928</td>\n",
       "      <td>1</td>\n",
       "    </tr>\n",
       "    <tr>\n",
       "      <th>2</th>\n",
       "      <td>6e8e6bd7-56e8-4abd-845e-a5e6649d8a8a</td>\n",
       "      <td>2024-01-29 23:56:22.674996</td>\n",
       "      <td>2024-01-29 23:57:08.228601</td>\n",
       "      <td>{'id': '508917c2-bc62-ecda-bb98-d6f940379334',...</td>\n",
       "      <td>c3cb145e-63be-cc87-7cba-4ca2f15d0f78</td>\n",
       "      <td>{'citations': [{'content': 'Title: Research Fo...</td>\n",
       "      <td>{'id': '', 'model': 'gpt-4', 'created': 170657...</td>\n",
       "      <td>what datasets were used in novel ways by Micro...</td>\n",
       "      <td>In the NeurIPS 2023 submissions, Microsoft res...</td>\n",
       "      <td>45.553605</td>\n",
       "      <td>4</td>\n",
       "    </tr>\n",
       "  </tbody>\n",
       "</table>\n",
       "</div>"
      ],
      "text/plain": [
       "                                     id                  timestamp  \\\n",
       "0  c515b325-31d8-4902-8eb0-bfdf8aa91551 2024-01-29 23:59:31.206075   \n",
       "1  030777f3-f05a-4177-bd8a-57ff4f418262 2024-01-29 23:57:41.405727   \n",
       "2  6e8e6bd7-56e8-4abd-845e-a5e6649d8a8a 2024-01-29 23:56:22.674996   \n",
       "\n",
       "          response_timestamp  \\\n",
       "0 2024-01-29 23:59:54.315737   \n",
       "1 2024-01-29 23:58:13.572655   \n",
       "2 2024-01-29 23:57:08.228601   \n",
       "\n",
       "                                          user_query  \\\n",
       "0  {'id': 'ecccf511-35f3-a6e8-2881-02af2addf17a',...   \n",
       "1  {'id': 'fcdd1c9d-dff4-73c4-a137-9dba99990983',...   \n",
       "2  {'id': '508917c2-bc62-ecda-bb98-d6f940379334',...   \n",
       "\n",
       "                        conversation_id  \\\n",
       "0  ecccf511-35f3-a6e8-2881-02af2addf17a   \n",
       "1  fcdd1c9d-dff4-73c4-a137-9dba99990983   \n",
       "2  c3cb145e-63be-cc87-7cba-4ca2f15d0f78   \n",
       "\n",
       "                                             context  \\\n",
       "0  {'citations': [{'content': 'Microsoft Research...   \n",
       "1  {'citations': [{'content': '. \n",
       "GPT -4 and the ...   \n",
       "2  {'citations': [{'content': 'Title: Research Fo...   \n",
       "\n",
       "                                       chat_response  \\\n",
       "0  {'id': '', 'model': 'gpt-4', 'created': 170657...   \n",
       "1  {'id': '', 'model': 'gpt-4', 'created': 170657...   \n",
       "2  {'id': '', 'model': 'gpt-4', 'created': 170657...   \n",
       "\n",
       "                                          user_input  \\\n",
       "0  What kind of problems is MSR's AI research try...   \n",
       "1  Can you summarize the key challenges tackled b...   \n",
       "2  what datasets were used in novel ways by Micro...   \n",
       "\n",
       "                                              answer   duration  turn_count  \n",
       "0  Microsoft Research's AI research is focused on...  23.109662           1  \n",
       "1  The Microsoft Research Forum for this year add...  32.166928           1  \n",
       "2  In the NeurIPS 2023 submissions, Microsoft res...  45.553605           4  "
      ]
     },
     "execution_count": 6,
     "metadata": {},
     "output_type": "execute_result"
    }
   ],
   "source": [
    "# Adds some calculated columns to the dataframe like 'duration', 'turn_count' etc.\n",
    "extend_dataframe(df)\n",
    "df.head(3)"
   ]
  },
  {
   "cell_type": "markdown",
   "metadata": {},
   "source": [
    "## Save to Excel"
   ]
  },
  {
   "cell_type": "code",
   "execution_count": null,
   "metadata": {},
   "outputs": [],
   "source": [
    "filename = 'chat_history.xlsx'\n",
    "\n",
    "# Create a new DataFrame from the results\n",
    "out_dataset = pd.DataFrame(df, columns=[\n",
    "    'id', \n",
    "    'conversation_id', \n",
    "    'turn_count', \n",
    "    'timestamp', \n",
    "    'response_timestamp', \n",
    "    'duration', \n",
    "    'user_input', \n",
    "    'answer', \n",
    "    'context'\n",
    "])\n",
    "\n",
    "# Write the new DataFrame to a new Excel file\n",
    "output_file_path = filename\n",
    "out_dataset.to_excel(output_file_path, index=False)\n",
    "\n",
    "out_dataset.head(4)"
   ]
  }
 ],
 "metadata": {
  "kernelspec": {
   "display_name": ".venv",
   "language": "python",
   "name": "python3"
  },
  "language_info": {
   "codemirror_mode": {
    "name": "ipython",
    "version": 3
   },
   "file_extension": ".py",
   "mimetype": "text/x-python",
   "name": "python",
   "nbconvert_exporter": "python",
   "pygments_lexer": "ipython3",
   "version": "3.11.6"
  }
 },
 "nbformat": 4,
 "nbformat_minor": 2
}
