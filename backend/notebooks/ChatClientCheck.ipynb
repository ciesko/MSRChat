{
 "cells": [
  {
   "cell_type": "code",
   "execution_count": 6,
   "metadata": {},
   "outputs": [
    {
     "ename": "SyntaxError",
     "evalue": "invalid syntax (1848835607.py, line 47)",
     "output_type": "error",
     "traceback": [
      "\u001b[1;36m  Cell \u001b[1;32mIn[6], line 47\u001b[1;36m\u001b[0m\n\u001b[1;33m    openai.\u001b[0m\n\u001b[1;37m           ^\u001b[0m\n\u001b[1;31mSyntaxError\u001b[0m\u001b[1;31m:\u001b[0m invalid syntax\n"
     ]
    }
   ],
   "source": [
    "import openai\n",
    "# from azure.identity import DefaultAzureCredential\n",
    "\n",
    "#%%\n",
    "from azure.core.credentials import AzureKeyCredential\n",
    "from dotenv import load_dotenv\n",
    "import os\n",
    "\n",
    "load_dotenv()\n",
    "\n",
    "AZURE_OPENAI_RESOURCE = os.environ.get(\"AZURE_OPENAI_RESOURCE\")\n",
    "AZURE_OPENAI_MODEL = os.environ.get(\"AZURE_OPENAI_MODEL\")\n",
    "AZURE_OPENAI_ENDPOINT = os.environ.get(\"AZURE_OPENAI_ENDPOINT\")\n",
    "AZURE_OPENAI_KEY = os.environ.get(\"AZURE_OPENAI_KEY\")\n",
    "\n",
    "# azure_openai_endpoint = \"<your-azure-openai-resource-endpoint>\"\n",
    "# azure_openai_key = \"<your-azure-openai-resource-api-key>\"\n",
    "# deployment_name = \"<your-deployment-name>\"\n",
    "\n",
    "# client = AzureOpenAI(\n",
    "#     api_key=os.getenv(\"AZURE_OPENAI_KEY\"),  \n",
    "#     api_version=\"2023-12-01-preview\",\n",
    "#     azure_endpoint=os.getenv(AZURE_OPENAI_ENDPOINT)\n",
    "# )\n",
    "\n",
    "# client = OpenAIClient(endpoint=azure_openai_endpoint, credential=AzureKeyCredential(azure_openai_key))\n",
    "\n",
    "# deployment = openai.get_deployment(deployment_name)\n",
    "# status = deployment.status\n",
    "\n",
    "openai.api_type = \"azure\"\n",
    "openai.api_base = AZURE_OPENAI_ENDPOINT\n",
    "openai.api_version = \"2023-08-01-preview\"\n",
    "openai.api_key = AZURE_OPENAI_KEY\n",
    "\n",
    "\n",
    "messages = [{'role': 'user', 'content': 'Hi this is a test'}]\n",
    "# messages.append({'role': 'user', 'content': title_prompt})\n",
    "\n",
    "completion = openai.ChatCompletion.create(    \n",
    "    engine=AZURE_OPENAI_MODEL,\n",
    "    messages=messages,\n",
    "    temperature=1,\n",
    "    max_tokens=64 \n",
    ")\n",
    "\n",
    "def get_deployment():\n",
    "    deployment = openai.Deployment.list()\n",
    "    print(deployment)\n",
    "\n",
    "get_deployment()    \n",
    "\n",
    "#%%\n",
    "\n",
    "# name = openai.Deployment.get(deployment_name)\n",
    "\n"
   ]
  }
 ],
 "metadata": {
  "kernelspec": {
   "display_name": ".venv",
   "language": "python",
   "name": "python3"
  },
  "language_info": {
   "codemirror_mode": {
    "name": "ipython",
    "version": 3
   },
   "file_extension": ".py",
   "mimetype": "text/x-python",
   "name": "python",
   "nbconvert_exporter": "python",
   "pygments_lexer": "ipython3",
   "version": "3.11.5"
  }
 },
 "nbformat": 4,
 "nbformat_minor": 2
}
