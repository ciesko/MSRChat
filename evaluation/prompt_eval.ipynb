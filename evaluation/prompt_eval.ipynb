{
  "cells": [
    {
      "cell_type": "code",
      "execution_count": 1,
      "metadata": {
        "id": "fm27HLB7UYJC"
      },
      "outputs": [],
      "source": [
        "from functions import *\n",
        "import pandas as pd\n",
        "import os\n"
      ]
    },
    {
      "cell_type": "code",
      "execution_count": 2,
      "metadata": {
        "colab": {
          "base_uri": "https://localhost:8080/",
          "height": 1125
        },
        "id": "7O_FUGKBWyfk",
        "outputId": "eae6289d-c44e-4f7e-ceca-07c7f14ed657"
      },
      "outputs": [],
      "source": [
        "file_path = os.environ.get(\"FILE_PATH\", \"./prompt_library.xlsx\")\n",
        "sheet_name = os.environ.get(\"SHEET_NAME\", \"categorized\")\n",
        "dataset = pd.read_excel(file_path,sheet_name=sheet_name)\n"
      ]
    },
    {
      "cell_type": "code",
      "execution_count": 3,
      "metadata": {
        "colab": {
          "base_uri": "https://localhost:8080/",
          "height": 206
        },
        "id": "rPg6Qr7LYPoU",
        "outputId": "e5641710-1bcc-438d-f9fb-723795336de1"
      },
      "outputs": [
        {
          "data": {
            "text/html": [
              "<div>\n",
              "<style scoped>\n",
              "    .dataframe tbody tr th:only-of-type {\n",
              "        vertical-align: middle;\n",
              "    }\n",
              "\n",
              "    .dataframe tbody tr th {\n",
              "        vertical-align: top;\n",
              "    }\n",
              "\n",
              "    .dataframe thead th {\n",
              "        text-align: right;\n",
              "    }\n",
              "</style>\n",
              "<table border=\"1\" class=\"dataframe\">\n",
              "  <thead>\n",
              "    <tr style=\"text-align: right;\">\n",
              "      <th></th>\n",
              "      <th>Category</th>\n",
              "      <th>Prompt</th>\n",
              "    </tr>\n",
              "  </thead>\n",
              "  <tbody>\n",
              "    <tr>\n",
              "      <th>0</th>\n",
              "      <td>External Impact of MSR</td>\n",
              "      <td>Can you identify the main AI and machine learn...</td>\n",
              "    </tr>\n",
              "    <tr>\n",
              "      <th>1</th>\n",
              "      <td>External Impact of MSR</td>\n",
              "      <td>How did Microsoft researchers address issues o...</td>\n",
              "    </tr>\n",
              "    <tr>\n",
              "      <th>2</th>\n",
              "      <td>External Impact of MSR</td>\n",
              "      <td>How did Microsoft's research at NeurIPS 2023 c...</td>\n",
              "    </tr>\n",
              "    <tr>\n",
              "      <th>3</th>\n",
              "      <td>External Impact of MSR</td>\n",
              "      <td>How do Microsoft's papers at NeurIPS contribut...</td>\n",
              "    </tr>\n",
              "    <tr>\n",
              "      <th>4</th>\n",
              "      <td>External Impact of MSR</td>\n",
              "      <td>How do Microsoft's NeurIPS 2023 submissions ad...</td>\n",
              "    </tr>\n",
              "  </tbody>\n",
              "</table>\n",
              "</div>"
            ],
            "text/plain": [
              "                 Category                                             Prompt\n",
              "0  External Impact of MSR  Can you identify the main AI and machine learn...\n",
              "1  External Impact of MSR  How did Microsoft researchers address issues o...\n",
              "2  External Impact of MSR  How did Microsoft's research at NeurIPS 2023 c...\n",
              "3  External Impact of MSR  How do Microsoft's papers at NeurIPS contribut...\n",
              "4  External Impact of MSR  How do Microsoft's NeurIPS 2023 submissions ad..."
            ]
          },
          "execution_count": 3,
          "metadata": {},
          "output_type": "execute_result"
        }
      ],
      "source": [
        "limit = 5 #no. of questions to prompt\n",
        "dataset.head(limit)"
      ]
    },
    {
      "cell_type": "code",
      "execution_count": 4,
      "metadata": {
        "id": "h506yP1Qn000"
      },
      "outputs": [
        {
          "name": "stdout",
          "output_type": "stream",
          "text": [
            "Question 0 processed succesfully\n",
            "Question 1 processed succesfully\n",
            "Question 2 processed succesfully\n",
            "Question 3 processed succesfully\n",
            "Question 4 processed succesfully\n"
          ]
        }
      ],
      "source": [
        "# Process each row and store the results in a new DataFrame\n",
        "results = []\n",
        "for index, row in dataset.iterrows():\n",
        "    try:\n",
        "        if index >= limit:\n",
        "            break\n",
        "        prompt = row[\"Prompt\"]\n",
        "        answer, response_time = process_prompt(prompt)\n",
        "        results.append((prompt,answer,response_time))\n",
        "\n",
        "        print(f\"Question {index} processed succesfully\")\n",
        "    except Exception as e:\n",
        "        print(f\"Error Question {index} processed unsuccesfully: {e}\")\n",
        "        continue"
      ]
    },
    {
      "cell_type": "code",
      "execution_count": 5,
      "metadata": {
        "id": "UqBPzWy_Geck"
      },
      "outputs": [],
      "source": [
        "# Create a new DataFrame from the results\n",
        "output_dataset = pd.DataFrame(results, columns=['Question', 'Answer', 'Response Time (s)'])"
      ]
    },
    {
      "cell_type": "code",
      "execution_count": 6,
      "metadata": {
        "id": "7ztF3XQEG5a9"
      },
      "outputs": [],
      "source": [
        "# Write the new DataFrame to a new Excel file\n",
        "output_file_path = 'output_data.xlsx'\n",
        "output_dataset.to_excel(output_file_path, index=False)"
      ]
    },
    {
      "cell_type": "code",
      "execution_count": 7,
      "metadata": {
        "colab": {
          "base_uri": "https://localhost:8080/",
          "height": 1338
        },
        "id": "hy0-BN3tHTuT",
        "outputId": "f43dada1-8eb3-46eb-823f-d2809799d6b8"
      },
      "outputs": [
        {
          "data": {
            "text/html": [
              "<div>\n",
              "<style scoped>\n",
              "    .dataframe tbody tr th:only-of-type {\n",
              "        vertical-align: middle;\n",
              "    }\n",
              "\n",
              "    .dataframe tbody tr th {\n",
              "        vertical-align: top;\n",
              "    }\n",
              "\n",
              "    .dataframe thead th {\n",
              "        text-align: right;\n",
              "    }\n",
              "</style>\n",
              "<table border=\"1\" class=\"dataframe\">\n",
              "  <thead>\n",
              "    <tr style=\"text-align: right;\">\n",
              "      <th></th>\n",
              "      <th>Question</th>\n",
              "      <th>Answer</th>\n",
              "      <th>Response Time (s)</th>\n",
              "    </tr>\n",
              "  </thead>\n",
              "  <tbody>\n",
              "    <tr>\n",
              "      <th>0</th>\n",
              "      <td>Can you identify the main AI and machine learn...</td>\n",
              "      <td>The documents provided highlight several AI an...</td>\n",
              "      <td>86.286395</td>\n",
              "    </tr>\n",
              "    <tr>\n",
              "      <th>1</th>\n",
              "      <td>How did Microsoft researchers address issues o...</td>\n",
              "      <td>The retrieved documents provide insights into ...</td>\n",
              "      <td>74.250756</td>\n",
              "    </tr>\n",
              "    <tr>\n",
              "      <th>2</th>\n",
              "      <td>How did Microsoft's research at NeurIPS 2023 c...</td>\n",
              "      <td>At NeurIPS 2023, Microsoft's research contribu...</td>\n",
              "      <td>74.620357</td>\n",
              "    </tr>\n",
              "    <tr>\n",
              "      <th>3</th>\n",
              "      <td>How do Microsoft's papers at NeurIPS contribut...</td>\n",
              "      <td>The requested information is not available in ...</td>\n",
              "      <td>20.155746</td>\n",
              "    </tr>\n",
              "    <tr>\n",
              "      <th>4</th>\n",
              "      <td>How do Microsoft's NeurIPS 2023 submissions ad...</td>\n",
              "      <td>Microsoft's submissions to NeurIPS 2023 showca...</td>\n",
              "      <td>238.338151</td>\n",
              "    </tr>\n",
              "  </tbody>\n",
              "</table>\n",
              "</div>"
            ],
            "text/plain": [
              "                                            Question  \\\n",
              "0  Can you identify the main AI and machine learn...   \n",
              "1  How did Microsoft researchers address issues o...   \n",
              "2  How did Microsoft's research at NeurIPS 2023 c...   \n",
              "3  How do Microsoft's papers at NeurIPS contribut...   \n",
              "4  How do Microsoft's NeurIPS 2023 submissions ad...   \n",
              "\n",
              "                                              Answer  Response Time (s)  \n",
              "0  The documents provided highlight several AI an...          86.286395  \n",
              "1  The retrieved documents provide insights into ...          74.250756  \n",
              "2  At NeurIPS 2023, Microsoft's research contribu...          74.620357  \n",
              "3  The requested information is not available in ...          20.155746  \n",
              "4  Microsoft's submissions to NeurIPS 2023 showca...         238.338151  "
            ]
          },
          "execution_count": 7,
          "metadata": {},
          "output_type": "execute_result"
        }
      ],
      "source": [
        "output_dataset"
      ]
    },
    {
      "cell_type": "code",
      "execution_count": 8,
      "metadata": {
        "colab": {
          "base_uri": "https://localhost:8080/"
        },
        "id": "c6gvobzrHKnm",
        "outputId": "f5c83923-4302-4902-a1ed-57b4f7f90866"
      },
      "outputs": [
        {
          "name": "stdout",
          "output_type": "stream",
          "text": [
            "Processing complete. Results saved to output_data.xlsx\n"
          ]
        }
      ],
      "source": [
        "print(f\"Processing complete. Results saved to {output_file_path}\")"
      ]
    }
  ],
  "metadata": {
    "colab": {
      "provenance": []
    },
    "kernelspec": {
      "display_name": "Python 3",
      "name": "python3"
    },
    "language_info": {
      "codemirror_mode": {
        "name": "ipython",
        "version": 3
      },
      "file_extension": ".py",
      "mimetype": "text/x-python",
      "name": "python",
      "nbconvert_exporter": "python",
      "pygments_lexer": "ipython3",
      "version": "3.11.8"
    }
  },
  "nbformat": 4,
  "nbformat_minor": 0
}
