{
  "cells": [
    {
      "cell_type": "code",
      "execution_count": 2,
      "metadata": {
        "id": "fm27HLB7UYJC"
      },
      "outputs": [
        {
          "data": {
            "text/plain": [
              "True"
            ]
          },
          "execution_count": 2,
          "metadata": {},
          "output_type": "execute_result"
        }
      ],
      "source": [
        "import pandas as pd   \n",
        "import requests \n",
        "import os \n",
        "import time\n",
        "from dotenv import load_dotenv\n",
        "\n",
        "load_dotenv()\n",
        "\n"
      ]
    },
    {
      "cell_type": "code",
      "execution_count": 3,
      "metadata": {
        "colab": {
          "base_uri": "https://localhost:8080/",
          "height": 1125
        },
        "id": "7O_FUGKBWyfk",
        "outputId": "eae6289d-c44e-4f7e-ceca-07c7f14ed657"
      },
      "outputs": [],
      "source": [
        "dataset = pd.read_excel('./prompt_library.xlsx')\n"
      ]
    },
    {
      "cell_type": "code",
      "execution_count": 4,
      "metadata": {
        "colab": {
          "base_uri": "https://localhost:8080/",
          "height": 206
        },
        "id": "rPg6Qr7LYPoU",
        "outputId": "e5641710-1bcc-438d-f9fb-723795336de1"
      },
      "outputs": [
        {
          "data": {
            "text/html": [
              "<div>\n",
              "<style scoped>\n",
              "    .dataframe tbody tr th:only-of-type {\n",
              "        vertical-align: middle;\n",
              "    }\n",
              "\n",
              "    .dataframe tbody tr th {\n",
              "        vertical-align: top;\n",
              "    }\n",
              "\n",
              "    .dataframe thead th {\n",
              "        text-align: right;\n",
              "    }\n",
              "</style>\n",
              "<table border=\"1\" class=\"dataframe\">\n",
              "  <thead>\n",
              "    <tr style=\"text-align: right;\">\n",
              "      <th></th>\n",
              "      <th>Prompt</th>\n",
              "    </tr>\n",
              "  </thead>\n",
              "  <tbody>\n",
              "    <tr>\n",
              "      <th>0</th>\n",
              "      <td>Are there any collaborative works between Micr...</td>\n",
              "    </tr>\n",
              "    <tr>\n",
              "      <th>1</th>\n",
              "      <td>Assess the potential impact of [Project Name] ...</td>\n",
              "    </tr>\n",
              "    <tr>\n",
              "      <th>2</th>\n",
              "      <td>Can we draw any parallels between Microsoft's ...</td>\n",
              "    </tr>\n",
              "    <tr>\n",
              "      <th>3</th>\n",
              "      <td>Can we identify any new patterns in the applic...</td>\n",
              "    </tr>\n",
              "    <tr>\n",
              "      <th>4</th>\n",
              "      <td>Can you help me understand the technical aspec...</td>\n",
              "    </tr>\n",
              "  </tbody>\n",
              "</table>\n",
              "</div>"
            ],
            "text/plain": [
              "                                              Prompt\n",
              "0  Are there any collaborative works between Micr...\n",
              "1  Assess the potential impact of [Project Name] ...\n",
              "2  Can we draw any parallels between Microsoft's ...\n",
              "3  Can we identify any new patterns in the applic...\n",
              "4  Can you help me understand the technical aspec..."
            ]
          },
          "execution_count": 4,
          "metadata": {},
          "output_type": "execute_result"
        }
      ],
      "source": [
        "dataset.head()"
      ]
    },
    {
      "cell_type": "code",
      "execution_count": 5,
      "metadata": {
        "id": "vFfYGc0YYjDl"
      },
      "outputs": [],
      "source": [
        "def get_response(data):\n",
        "    \"\"\"\n",
        "    Sends a POST request to the conversation API to obtain a response.\n",
        "\n",
        "    Parameters:\n",
        "    - data (dict): Body of the request with prompt data.\n",
        "\n",
        "    Environment Variables:\n",
        "    - BASE_URL (required): The Base URL of the API. If not provided, defaults to \"http://127.0.0.1:5000\".\n",
        "    \n",
        "    \"\"\"\n",
        "    try:\n",
        "        base_url = os.environ.get(\"BASE_URL\", \"http://127.0.0.1:5000\")\n",
        "        url = f\"{base_url}/conversation\"\n",
        "        headers = {\n",
        "            \"content-type\": \"application/json\",\n",
        "        }\n",
        "\n",
        "        response = requests.post(url, json=data, headers=headers)\n",
        "\n",
        "        response.raise_for_status()  # Raises HTTPError for bad responses\n",
        "\n",
        "        response_json = response.json()\n",
        "\n",
        "        return response_json\n",
        "\n",
        "    except requests.exceptions.RequestException as req_exc:\n",
        "        raise Exception(\"Error in making the API request.\")\n",
        "\n",
        "    except (KeyError, IndexError) as json_exc:\n",
        "        print(f\"JSON parsing error: {json_exc}\")\n",
        "        raise Exception(\"Error in parsing the API response.\")"
      ]
    },
    {
      "cell_type": "code",
      "execution_count": 6,
      "metadata": {
        "id": "v4IH1lXkkUvT"
      },
      "outputs": [],
      "source": [
        "# Function to rate the answer\n",
        "def evaluate_response(response, question):\n",
        "    \"\"\"\n",
        "    Rate the quality of an AI-generated response based on the provided response and original user question.\n",
        "\n",
        "    Parameters:\n",
        "    - response (dict): The JSON response obtained from the conversation API, containing AI-generated response.\n",
        "    - question (str): The original user question.\n",
        "    \"\"\"\n",
        "    evaluation_string = os.environ.get(\"PROMPT_EVAL_STRING\")\n",
        "    try:\n",
        "        prompt_data = {\n",
        "            \"messages\": [\n",
        "                {\n",
        "                    \"role\": \"user\",\n",
        "                    \"content\": question,\n",
        "                },\n",
        "                {\n",
        "                    \"role\": \"tool\",\n",
        "                    \"content\": response[\"choices\"][0][\"messages\"][0][\"content\"],\n",
        "                },\n",
        "                {\n",
        "                    \"role\": \"assistant\",\n",
        "                    \"content\": response[\"choices\"][0][\"messages\"][1][\"content\"],\n",
        "                },\n",
        "                {\"role\": \"user\", \"content\": evaluation_string},\n",
        "            ]\n",
        "        }\n",
        "        response = get_response(prompt_data)\n",
        "        evaluation = response[\"choices\"][0][\"messages\"][1][\"content\"]\n",
        "        return evaluation\n",
        "\n",
        "    except (KeyError, IndexError):\n",
        "        raise Exception(\"Error in parsing the API response.\")"
      ]
    },
    {
      "cell_type": "code",
      "execution_count": 7,
      "metadata": {
        "id": "IIzGp-BinlFl"
      },
      "outputs": [],
      "source": [
        "def process_row(row):\n",
        "    \"\"\"\n",
        "    Process a row of data containing a user question and obtain the AI-generated response along with an evaluation response/rating.\n",
        "\n",
        "    Parameters:\n",
        "    - row (dict): A dictionary representing a row of data, typically from a DataFrame, containing a 'Prompt' field.\n",
        "\n",
        "    \"\"\"\n",
        "    try:\n",
        "        question = row['Prompt']\n",
        "        prompt_data = {\"messages\": [{\"role\": \"user\", \"content\": question}]}\n",
        "        start_time = time.time()\n",
        "        response = get_response(prompt_data)\n",
        "        end_time = time.time()\n",
        "        answer  = response[\"choices\"][0][\"messages\"][1][\"content\"]\n",
        "        evaluation = evaluate_response(response=response, question=question)\n",
        "        response_time = end_time - start_time\n",
        "        return question, answer, evaluation, response_time\n",
        "    \n",
        "    except (KeyError, IndexError):\n",
        "        raise Exception(\"Error in parsing the API response.\")"
      ]
    },
    {
      "cell_type": "code",
      "execution_count": 8,
      "metadata": {
        "id": "h506yP1Qn000"
      },
      "outputs": [
        {
          "name": "stdout",
          "output_type": "stream",
          "text": [
            "Question 0 processed succesfully\n",
            "Question 1 processed succesfully\n",
            "Request error: 400 Client Error: BAD REQUEST for url: http://127.0.0.1:5000/conversation\n",
            "Error Question 2 processed unsuccesfully: Error in making the API request.\n",
            "Question 3 processed succesfully\n",
            "Question 4 processed succesfully\n"
          ]
        }
      ],
      "source": [
        "# Process each row and store the results in a new DataFrame\n",
        "results = []\n",
        "for index, row in dataset.iterrows():\n",
        "    try:\n",
        "        if index > 4:\n",
        "            break\n",
        "        results.append(process_row(row))\n",
        "        print(f\"Question {index} processed succesfully\")\n",
        "    except Exception as e:\n",
        "        print(f\"Error Question {index} processed unsuccesfully: {e}\")\n",
        "        continue"
      ]
    },
    {
      "cell_type": "code",
      "execution_count": 9,
      "metadata": {
        "id": "UqBPzWy_Geck"
      },
      "outputs": [],
      "source": [
        "# Create a new DataFrame from the results\n",
        "output_dataset = pd.DataFrame(results, columns=['Question', 'Answer', 'Evaluation', 'Response Time (s)'])"
      ]
    },
    {
      "cell_type": "code",
      "execution_count": 10,
      "metadata": {
        "id": "7ztF3XQEG5a9"
      },
      "outputs": [],
      "source": [
        "# Write the new DataFrame to a new Excel file\n",
        "output_file_path = 'output_data.xlsx'\n",
        "output_dataset.to_excel(output_file_path, index=False)"
      ]
    },
    {
      "cell_type": "code",
      "execution_count": 11,
      "metadata": {
        "colab": {
          "base_uri": "https://localhost:8080/",
          "height": 1338
        },
        "id": "hy0-BN3tHTuT",
        "outputId": "f43dada1-8eb3-46eb-823f-d2809799d6b8"
      },
      "outputs": [
        {
          "data": {
            "text/html": [
              "<div>\n",
              "<style scoped>\n",
              "    .dataframe tbody tr th:only-of-type {\n",
              "        vertical-align: middle;\n",
              "    }\n",
              "\n",
              "    .dataframe tbody tr th {\n",
              "        vertical-align: top;\n",
              "    }\n",
              "\n",
              "    .dataframe thead th {\n",
              "        text-align: right;\n",
              "    }\n",
              "</style>\n",
              "<table border=\"1\" class=\"dataframe\">\n",
              "  <thead>\n",
              "    <tr style=\"text-align: right;\">\n",
              "      <th></th>\n",
              "      <th>Question</th>\n",
              "      <th>Answer</th>\n",
              "      <th>Evaluation</th>\n",
              "      <th>Response Time (s)</th>\n",
              "    </tr>\n",
              "  </thead>\n",
              "  <tbody>\n",
              "    <tr>\n",
              "      <th>0</th>\n",
              "      <td>Are there any collaborative works between Micr...</td>\n",
              "      <td>Yes, there are collaborative works between Mic...</td>\n",
              "      <td>I'm sorry, but as an AI language model, I don'...</td>\n",
              "      <td>39.451646</td>\n",
              "    </tr>\n",
              "    <tr>\n",
              "      <th>1</th>\n",
              "      <td>Assess the potential impact of [Project Name] ...</td>\n",
              "      <td>The requested information is not available in ...</td>\n",
              "      <td>As an AI language model, I don't have the capa...</td>\n",
              "      <td>19.418135</td>\n",
              "    </tr>\n",
              "    <tr>\n",
              "      <th>2</th>\n",
              "      <td>Can we identify any new patterns in the applic...</td>\n",
              "      <td>The requested information is not available in ...</td>\n",
              "      <td>As an AI language model, I am not capable of s...</td>\n",
              "      <td>21.586031</td>\n",
              "    </tr>\n",
              "    <tr>\n",
              "      <th>3</th>\n",
              "      <td>Can you help me understand the technical aspec...</td>\n",
              "      <td>The requested information is not available in ...</td>\n",
              "      <td>As an AI language model, I don't have the capa...</td>\n",
              "      <td>15.216946</td>\n",
              "    </tr>\n",
              "  </tbody>\n",
              "</table>\n",
              "</div>"
            ],
            "text/plain": [
              "                                            Question  \\\n",
              "0  Are there any collaborative works between Micr...   \n",
              "1  Assess the potential impact of [Project Name] ...   \n",
              "2  Can we identify any new patterns in the applic...   \n",
              "3  Can you help me understand the technical aspec...   \n",
              "\n",
              "                                              Answer  \\\n",
              "0  Yes, there are collaborative works between Mic...   \n",
              "1  The requested information is not available in ...   \n",
              "2  The requested information is not available in ...   \n",
              "3  The requested information is not available in ...   \n",
              "\n",
              "                                          Evaluation  Response Time (s)  \n",
              "0  I'm sorry, but as an AI language model, I don'...          39.451646  \n",
              "1  As an AI language model, I don't have the capa...          19.418135  \n",
              "2  As an AI language model, I am not capable of s...          21.586031  \n",
              "3  As an AI language model, I don't have the capa...          15.216946  "
            ]
          },
          "execution_count": 11,
          "metadata": {},
          "output_type": "execute_result"
        }
      ],
      "source": [
        "output_dataset"
      ]
    },
    {
      "cell_type": "code",
      "execution_count": 12,
      "metadata": {
        "colab": {
          "base_uri": "https://localhost:8080/"
        },
        "id": "c6gvobzrHKnm",
        "outputId": "f5c83923-4302-4902-a1ed-57b4f7f90866"
      },
      "outputs": [
        {
          "name": "stdout",
          "output_type": "stream",
          "text": [
            "Processing complete. Results saved to output_data.xlsx\n"
          ]
        }
      ],
      "source": [
        "print(f\"Processing complete. Results saved to {output_file_path}\")"
      ]
    }
  ],
  "metadata": {
    "colab": {
      "provenance": []
    },
    "kernelspec": {
      "display_name": "Python 3",
      "name": "python3"
    },
    "language_info": {
      "codemirror_mode": {
        "name": "ipython",
        "version": 3
      },
      "file_extension": ".py",
      "mimetype": "text/x-python",
      "name": "python",
      "nbconvert_exporter": "python",
      "pygments_lexer": "ipython3",
      "version": "3.11.7"
    }
  },
  "nbformat": 4,
  "nbformat_minor": 0
}
