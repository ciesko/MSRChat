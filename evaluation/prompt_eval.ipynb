{
  "cells": [
    {
      "cell_type": "code",
      "execution_count": 1,
      "metadata": {
        "id": "fm27HLB7UYJC"
      },
      "outputs": [
        {
          "data": {
            "text/plain": [
              "True"
            ]
          },
          "execution_count": 1,
          "metadata": {},
          "output_type": "execute_result"
        }
      ],
      "source": [
        "import pandas as pd   \n",
        "import requests \n",
        "import os \n",
        "import time\n",
        "from dotenv import load_dotenv\n",
        "\n",
        "load_dotenv()\n",
        "\n"
      ]
    },
    {
      "cell_type": "code",
      "execution_count": 2,
      "metadata": {
        "colab": {
          "base_uri": "https://localhost:8080/",
          "height": 1125
        },
        "id": "7O_FUGKBWyfk",
        "outputId": "eae6289d-c44e-4f7e-ceca-07c7f14ed657"
      },
      "outputs": [],
      "source": [
        "dataset = pd.read_excel('./prompt_library.xlsx')\n"
      ]
    },
    {
      "cell_type": "code",
      "execution_count": 3,
      "metadata": {
        "colab": {
          "base_uri": "https://localhost:8080/",
          "height": 206
        },
        "id": "rPg6Qr7LYPoU",
        "outputId": "e5641710-1bcc-438d-f9fb-723795336de1"
      },
      "outputs": [
        {
          "data": {
            "text/html": [
              "<div>\n",
              "<style scoped>\n",
              "    .dataframe tbody tr th:only-of-type {\n",
              "        vertical-align: middle;\n",
              "    }\n",
              "\n",
              "    .dataframe tbody tr th {\n",
              "        vertical-align: top;\n",
              "    }\n",
              "\n",
              "    .dataframe thead th {\n",
              "        text-align: right;\n",
              "    }\n",
              "</style>\n",
              "<table border=\"1\" class=\"dataframe\">\n",
              "  <thead>\n",
              "    <tr style=\"text-align: right;\">\n",
              "      <th></th>\n",
              "      <th>Prompt</th>\n",
              "    </tr>\n",
              "  </thead>\n",
              "  <tbody>\n",
              "    <tr>\n",
              "      <th>0</th>\n",
              "      <td>Are there any collaborative works between Micr...</td>\n",
              "    </tr>\n",
              "    <tr>\n",
              "      <th>1</th>\n",
              "      <td>Assess the potential impact of [Project Name] ...</td>\n",
              "    </tr>\n",
              "    <tr>\n",
              "      <th>2</th>\n",
              "      <td>Can we draw any parallels between Microsoft's ...</td>\n",
              "    </tr>\n",
              "    <tr>\n",
              "      <th>3</th>\n",
              "      <td>Can we identify any new patterns in the applic...</td>\n",
              "    </tr>\n",
              "    <tr>\n",
              "      <th>4</th>\n",
              "      <td>Can you help me understand the technical aspec...</td>\n",
              "    </tr>\n",
              "  </tbody>\n",
              "</table>\n",
              "</div>"
            ],
            "text/plain": [
              "                                              Prompt\n",
              "0  Are there any collaborative works between Micr...\n",
              "1  Assess the potential impact of [Project Name] ...\n",
              "2  Can we draw any parallels between Microsoft's ...\n",
              "3  Can we identify any new patterns in the applic...\n",
              "4  Can you help me understand the technical aspec..."
            ]
          },
          "execution_count": 3,
          "metadata": {},
          "output_type": "execute_result"
        }
      ],
      "source": [
        "dataset.head()"
      ]
    },
    {
      "cell_type": "code",
      "execution_count": 4,
      "metadata": {
        "id": "vFfYGc0YYjDl"
      },
      "outputs": [],
      "source": [
        "def get_response(question, response=None):\n",
        "    \"\"\"\n",
        "    Sends a POST request to the conversation API to obtain a response based on the given user question and optionally response from a previous question.\n",
        "\n",
        "    Parameters:\n",
        "    - question (str): The user's question to be sent to the conversation API from the excel file.\n",
        "    - response (dict or None): The optional AI response to be included in the conversation. If None, only the user's question is sent.\n",
        "\n",
        "    Environment Variables:\n",
        "    - PROMPT_EVAL_STRING: Evaluation string to be included in the user's messages which will be used to prompt the AI to evaluate its previous response.\n",
        "    - BASE_URL (required): The Base URL of the API. If not provided, defaults to \"http://127.0.0.1:5000\".\n",
        "    \n",
        "    \"\"\"\n",
        "    evaluation_string = os.environ.get(\"PROMPT_EVAL_STRING\")\n",
        "\n",
        "    base_url = os.environ.get(\"BASE_URL\", \"http://127.0.0.1:5000\") \n",
        "    url = f'{base_url}/conversation'\n",
        "    headers = {\n",
        "        \"content-type\": \"application/json\",\n",
        "    }\n",
        "    try:\n",
        "        if response:\n",
        "            data = {\n",
        "                \"messages\": [\n",
        "                    {\n",
        "                        \"role\": \"user\",\n",
        "                        \"content\": question,\n",
        "                    },\n",
        "                    {\n",
        "                        \"role\": \"tool\",\n",
        "                        \"content\": response[\"choices\"][0][\"messages\"][0][\"content\"],\n",
        "                    },\n",
        "                    {\n",
        "                        \"role\": \"assistant\",\n",
        "                        \"content\": response[\"choices\"][0][\"messages\"][1][\"content\"],\n",
        "                    },\n",
        "                    {\"role\": \"user\", \"content\": evaluation_string},\n",
        "                ]\n",
        "            }\n",
        "        else:\n",
        "            data = {\"messages\": [{\"role\": \"user\", \"content\": question}]}\n",
        "        response = requests.post(url, json=data, headers=headers)\n",
        "        if not response.status_code == 200:\n",
        "            print(\"POST request failed. Status code:\", response.status_code)\n",
        "            raise Exception\n",
        "\n",
        "        response_json = response.json()\n",
        "\n",
        "        return response_json\n",
        "\n",
        "    except (KeyError, IndexError) as e:\n",
        "        raise e"
      ]
    },
    {
      "cell_type": "code",
      "execution_count": 5,
      "metadata": {
        "id": "v4IH1lXkkUvT"
      },
      "outputs": [],
      "source": [
        "# Function to rate the answer\n",
        "def evaluate_response(response, question):\n",
        "  \"\"\"\n",
        "    Rate the quality of an AI-generated response based on the provided response and original user question.\n",
        "\n",
        "    Parameters:\n",
        "    - response (dict): The JSON response obtained from the conversation API, containing AI-generated response.\n",
        "    - question (str): The original user question.\n",
        "  \"\"\"\n",
        "  response = get_response(question=question, response=response)\n",
        "  rating = response[\"choices\"][0][\"messages\"][1][\"content\"]\n",
        "  return rating"
      ]
    },
    {
      "cell_type": "code",
      "execution_count": 6,
      "metadata": {
        "id": "IIzGp-BinlFl"
      },
      "outputs": [],
      "source": [
        "def process_row(row):\n",
        "    \"\"\"\n",
        "    Process a row of data containing a user question and obtain the AI-generated response along with an evaluation response/rating.\n",
        "\n",
        "    Parameters:\n",
        "    - row (dict): A dictionary representing a row of data, typically from a DataFrame, containing a 'Prompt' field.\n",
        "\n",
        "    \"\"\"\n",
        "    question = row['Prompt']\n",
        "    start_time = time.time()\n",
        "    response = get_response(question=question)\n",
        "    end_time = time.time()\n",
        "    answer  = response[\"choices\"][0][\"messages\"][1][\"content\"]\n",
        "    evaluation = evaluate_response(response=response, question=question)\n",
        "    response_time = end_time - start_time\n",
        "    return question, answer, evaluation, response_time"
      ]
    },
    {
      "cell_type": "code",
      "execution_count": 7,
      "metadata": {
        "id": "h506yP1Qn000"
      },
      "outputs": [
        {
          "name": "stdout",
          "output_type": "stream",
          "text": [
            "Question 0 processed succesfully\n",
            "Question 1 processed succesfully\n",
            "Question 2 processed succesfully\n",
            "Question 3 processed succesfully\n",
            "Question 4 processed succesfully\n",
            "Question 5 processed succesfully\n",
            "Question 6 processed succesfully\n",
            "Question 7 processed succesfully\n"
          ]
        }
      ],
      "source": [
        "# Process each row and store the results in a new DataFrame\n",
        "results = []\n",
        "for index, row in dataset.iterrows():\n",
        "    try:\n",
        "        results.append(process_row(row))\n",
        "        print(f\"Question {index} processed succesfully\")\n",
        "    except Exception as e:\n",
        "        print(f\"Error Question {index} processed unsuccesfully\")\n",
        "        continue"
      ]
    },
    {
      "cell_type": "code",
      "execution_count": null,
      "metadata": {
        "id": "UqBPzWy_Geck"
      },
      "outputs": [
        {
          "ename": "NameError",
          "evalue": "name 'pd' is not defined",
          "output_type": "error",
          "traceback": [
            "\u001b[1;31m---------------------------------------------------------------------------\u001b[0m",
            "\u001b[1;31mNameError\u001b[0m                                 Traceback (most recent call last)",
            "Cell \u001b[1;32mIn[2], line 2\u001b[0m\n\u001b[0;32m      1\u001b[0m \u001b[38;5;66;03m# Create a new DataFrame from the results\u001b[39;00m\n\u001b[1;32m----> 2\u001b[0m output_dataset \u001b[38;5;241m=\u001b[39m \u001b[43mpd\u001b[49m\u001b[38;5;241m.\u001b[39mDataFrame(results, columns\u001b[38;5;241m=\u001b[39m[\u001b[38;5;124m'\u001b[39m\u001b[38;5;124mQuestion\u001b[39m\u001b[38;5;124m'\u001b[39m, \u001b[38;5;124m'\u001b[39m\u001b[38;5;124mAnswer\u001b[39m\u001b[38;5;124m'\u001b[39m, \u001b[38;5;124m'\u001b[39m\u001b[38;5;124mEvaluation\u001b[39m\u001b[38;5;124m'\u001b[39m, \u001b[38;5;124m'\u001b[39m\u001b[38;5;124mResponse Time (s)\u001b[39m\u001b[38;5;124m'\u001b[39m])\n",
            "\u001b[1;31mNameError\u001b[0m: name 'pd' is not defined"
          ]
        }
      ],
      "source": [
        "# Create a new DataFrame from the results\n",
        "output_dataset = pd.DataFrame(results, columns=['Question', 'Answer', 'Evaluation', 'Response Time (s)'])"
      ]
    },
    {
      "cell_type": "code",
      "execution_count": null,
      "metadata": {
        "id": "7ztF3XQEG5a9"
      },
      "outputs": [
        {
          "ename": "NameError",
          "evalue": "name 'output_dataset' is not defined",
          "output_type": "error",
          "traceback": [
            "\u001b[1;31m---------------------------------------------------------------------------\u001b[0m",
            "\u001b[1;31mNameError\u001b[0m                                 Traceback (most recent call last)",
            "Cell \u001b[1;32mIn[1], line 3\u001b[0m\n\u001b[0;32m      1\u001b[0m \u001b[38;5;66;03m# Write the new DataFrame to a new Excel file\u001b[39;00m\n\u001b[0;32m      2\u001b[0m output_file_path \u001b[38;5;241m=\u001b[39m \u001b[38;5;124m'\u001b[39m\u001b[38;5;124moutput_data.xlsx\u001b[39m\u001b[38;5;124m'\u001b[39m\n\u001b[1;32m----> 3\u001b[0m \u001b[43moutput_dataset\u001b[49m\u001b[38;5;241m.\u001b[39mto_excel(output_file_path, index\u001b[38;5;241m=\u001b[39m\u001b[38;5;28;01mFalse\u001b[39;00m)\n",
            "\u001b[1;31mNameError\u001b[0m: name 'output_dataset' is not defined"
          ]
        }
      ],
      "source": [
        "# Write the new DataFrame to a new Excel file\n",
        "output_file_path = 'output_data.xlsx'\n",
        "output_dataset.to_excel(output_file_path, index=False)"
      ]
    },
    {
      "cell_type": "code",
      "execution_count": null,
      "metadata": {
        "colab": {
          "base_uri": "https://localhost:8080/",
          "height": 1338
        },
        "id": "hy0-BN3tHTuT",
        "outputId": "f43dada1-8eb3-46eb-823f-d2809799d6b8"
      },
      "outputs": [
        {
          "data": {
            "text/html": [
              "<div>\n",
              "<style scoped>\n",
              "    .dataframe tbody tr th:only-of-type {\n",
              "        vertical-align: middle;\n",
              "    }\n",
              "\n",
              "    .dataframe tbody tr th {\n",
              "        vertical-align: top;\n",
              "    }\n",
              "\n",
              "    .dataframe thead th {\n",
              "        text-align: right;\n",
              "    }\n",
              "</style>\n",
              "<table border=\"1\" class=\"dataframe\">\n",
              "  <thead>\n",
              "    <tr style=\"text-align: right;\">\n",
              "      <th></th>\n",
              "      <th>Question</th>\n",
              "      <th>Answer</th>\n",
              "      <th>Rating</th>\n",
              "      <th>Response Time (s)</th>\n",
              "    </tr>\n",
              "  </thead>\n",
              "  <tbody>\n",
              "    <tr>\n",
              "      <th>0</th>\n",
              "      <td>Can you explain MSR's approach to fostering co...</td>\n",
              "      <td>Microsoft Research (MSR) fosters collaboration...</td>\n",
              "      <td>The requested information is not available in ...</td>\n",
              "      <td>50.461030</td>\n",
              "    </tr>\n",
              "    <tr>\n",
              "      <th>1</th>\n",
              "      <td>What are MSR's novel strategies for tackling c...</td>\n",
              "      <td>Microsoft Research (MSR) is employing a variet...</td>\n",
              "      <td>The previous response provided information on ...</td>\n",
              "      <td>62.363523</td>\n",
              "    </tr>\n",
              "    <tr>\n",
              "      <th>2</th>\n",
              "      <td>What role does MSR see for AI in advancing edu...</td>\n",
              "      <td>The retrieved documents indicate that Microsof...</td>\n",
              "      <td>The response provided is out-of-domain as it d...</td>\n",
              "      <td>58.752541</td>\n",
              "    </tr>\n",
              "    <tr>\n",
              "      <th>3</th>\n",
              "      <td>Can you detail the most anticipated research p...</td>\n",
              "      <td>The retrieved documents do not provide specifi...</td>\n",
              "      <td>The response provided to the user's question a...</td>\n",
              "      <td>29.331522</td>\n",
              "    </tr>\n",
              "  </tbody>\n",
              "</table>\n",
              "</div>"
            ],
            "text/plain": [
              "                                            Question  \\\n",
              "0  Can you explain MSR's approach to fostering co...   \n",
              "1  What are MSR's novel strategies for tackling c...   \n",
              "2  What role does MSR see for AI in advancing edu...   \n",
              "3  Can you detail the most anticipated research p...   \n",
              "\n",
              "                                              Answer  \\\n",
              "0  Microsoft Research (MSR) fosters collaboration...   \n",
              "1  Microsoft Research (MSR) is employing a variet...   \n",
              "2  The retrieved documents indicate that Microsof...   \n",
              "3  The retrieved documents do not provide specifi...   \n",
              "\n",
              "                                              Rating  Response Time (s)  \n",
              "0  The requested information is not available in ...          50.461030  \n",
              "1  The previous response provided information on ...          62.363523  \n",
              "2  The response provided is out-of-domain as it d...          58.752541  \n",
              "3  The response provided to the user's question a...          29.331522  "
            ]
          },
          "execution_count": 10,
          "metadata": {},
          "output_type": "execute_result"
        }
      ],
      "source": [
        "output_dataset"
      ]
    },
    {
      "cell_type": "code",
      "execution_count": null,
      "metadata": {
        "colab": {
          "base_uri": "https://localhost:8080/"
        },
        "id": "c6gvobzrHKnm",
        "outputId": "f5c83923-4302-4902-a1ed-57b4f7f90866"
      },
      "outputs": [
        {
          "name": "stdout",
          "output_type": "stream",
          "text": [
            "Processing complete. Results saved to output_data.xlsx\n"
          ]
        }
      ],
      "source": [
        "print(f\"Processing complete. Results saved to {output_file_path}\")"
      ]
    }
  ],
  "metadata": {
    "colab": {
      "provenance": []
    },
    "kernelspec": {
      "display_name": "Python 3",
      "name": "python3"
    },
    "language_info": {
      "codemirror_mode": {
        "name": "ipython",
        "version": 3
      },
      "file_extension": ".py",
      "mimetype": "text/x-python",
      "name": "python",
      "nbconvert_exporter": "python",
      "pygments_lexer": "ipython3",
      "version": "3.11.7"
    }
  },
  "nbformat": 4,
  "nbformat_minor": 0
}
