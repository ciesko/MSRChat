{
  "cells": [
    {
      "cell_type": "code",
      "execution_count": 1,
      "metadata": {
        "id": "fm27HLB7UYJC"
      },
      "outputs": [],
      "source": [
        "from functions import *\n",
        "import pandas as pd"
      ]
    },
    {
      "cell_type": "code",
      "execution_count": 2,
      "metadata": {
        "colab": {
          "base_uri": "https://localhost:8080/",
          "height": 1125
        },
        "id": "7O_FUGKBWyfk",
        "outputId": "eae6289d-c44e-4f7e-ceca-07c7f14ed657"
      },
      "outputs": [],
      "source": [
        "dataset = pd.read_excel('./prompt_library.xlsx',sheet_name='categorized')\n"
      ]
    },
    {
      "cell_type": "code",
      "execution_count": 3,
      "metadata": {
        "colab": {
          "base_uri": "https://localhost:8080/",
          "height": 206
        },
        "id": "rPg6Qr7LYPoU",
        "outputId": "e5641710-1bcc-438d-f9fb-723795336de1"
      },
      "outputs": [
        {
          "data": {
            "text/html": [
              "<div>\n",
              "<style scoped>\n",
              "    .dataframe tbody tr th:only-of-type {\n",
              "        vertical-align: middle;\n",
              "    }\n",
              "\n",
              "    .dataframe tbody tr th {\n",
              "        vertical-align: top;\n",
              "    }\n",
              "\n",
              "    .dataframe thead th {\n",
              "        text-align: right;\n",
              "    }\n",
              "</style>\n",
              "<table border=\"1\" class=\"dataframe\">\n",
              "  <thead>\n",
              "    <tr style=\"text-align: right;\">\n",
              "      <th></th>\n",
              "      <th>Category</th>\n",
              "      <th>Prompt</th>\n",
              "    </tr>\n",
              "  </thead>\n",
              "  <tbody>\n",
              "    <tr>\n",
              "      <th>0</th>\n",
              "      <td>External Impact of MSR</td>\n",
              "      <td>Can you identify the main AI and machine learn...</td>\n",
              "    </tr>\n",
              "    <tr>\n",
              "      <th>1</th>\n",
              "      <td>External Impact of MSR</td>\n",
              "      <td>How did Microsoft researchers address issues o...</td>\n",
              "    </tr>\n",
              "    <tr>\n",
              "      <th>2</th>\n",
              "      <td>External Impact of MSR</td>\n",
              "      <td>How did Microsoft's research at NeurIPS 2023 c...</td>\n",
              "    </tr>\n",
              "    <tr>\n",
              "      <th>3</th>\n",
              "      <td>External Impact of MSR</td>\n",
              "      <td>How do Microsoft's papers at NeurIPS contribut...</td>\n",
              "    </tr>\n",
              "    <tr>\n",
              "      <th>4</th>\n",
              "      <td>External Impact of MSR</td>\n",
              "      <td>How do Microsoft's NeurIPS 2023 submissions ad...</td>\n",
              "    </tr>\n",
              "  </tbody>\n",
              "</table>\n",
              "</div>"
            ],
            "text/plain": [
              "                 Category                                             Prompt\n",
              "0  External Impact of MSR  Can you identify the main AI and machine learn...\n",
              "1  External Impact of MSR  How did Microsoft researchers address issues o...\n",
              "2  External Impact of MSR  How did Microsoft's research at NeurIPS 2023 c...\n",
              "3  External Impact of MSR  How do Microsoft's papers at NeurIPS contribut...\n",
              "4  External Impact of MSR  How do Microsoft's NeurIPS 2023 submissions ad..."
            ]
          },
          "execution_count": 3,
          "metadata": {},
          "output_type": "execute_result"
        }
      ],
      "source": [
        "dataset.head()"
      ]
    },
    {
      "cell_type": "code",
      "execution_count": 4,
      "metadata": {
        "id": "h506yP1Qn000"
      },
      "outputs": [
        {
          "name": "stdout",
          "output_type": "stream",
          "text": [
            "Question 0 processed succesfully\n",
            "Question 1 processed succesfully\n",
            "Question 2 processed succesfully\n",
            "Question 3 processed succesfully\n",
            "Question 4 processed succesfully\n",
            "Question 5 processed succesfully\n"
          ]
        }
      ],
      "source": [
        "# Process each row and store the results in a new DataFrame\n",
        "results = []\n",
        "for index, row in dataset.iterrows():\n",
        "    try:\n",
        "        if index > 5:\n",
        "            break\n",
        "        prompt = row[\"Prompt\"]\n",
        "        evaluation_response = evaluate_response(prompt)\n",
        "        results.append(evaluation_response)\n",
        "        print(f\"Question {index} processed succesfully\")\n",
        "    except Exception as e:\n",
        "        print(f\"Error Question {index} processed unsuccesfully: {e}\")\n",
        "        continue"
      ]
    },
    {
      "cell_type": "code",
      "execution_count": 5,
      "metadata": {
        "id": "UqBPzWy_Geck"
      },
      "outputs": [],
      "source": [
        "# Create a new DataFrame from the results\n",
        "output_dataset = pd.DataFrame(results, columns=['Question', 'Answer', 'Response Time (s)', 'Evaluation',])"
      ]
    },
    {
      "cell_type": "code",
      "execution_count": 7,
      "metadata": {
        "id": "7ztF3XQEG5a9"
      },
      "outputs": [],
      "source": [
        "# Write the new DataFrame to a new Excel file\n",
        "output_file_path = 'output_data.xlsx'\n",
        "output_dataset.to_excel(output_file_path, index=False)"
      ]
    },
    {
      "cell_type": "code",
      "execution_count": 8,
      "metadata": {
        "colab": {
          "base_uri": "https://localhost:8080/",
          "height": 1338
        },
        "id": "hy0-BN3tHTuT",
        "outputId": "f43dada1-8eb3-46eb-823f-d2809799d6b8"
      },
      "outputs": [
        {
          "data": {
            "text/html": [
              "<div>\n",
              "<style scoped>\n",
              "    .dataframe tbody tr th:only-of-type {\n",
              "        vertical-align: middle;\n",
              "    }\n",
              "\n",
              "    .dataframe tbody tr th {\n",
              "        vertical-align: top;\n",
              "    }\n",
              "\n",
              "    .dataframe thead th {\n",
              "        text-align: right;\n",
              "    }\n",
              "</style>\n",
              "<table border=\"1\" class=\"dataframe\">\n",
              "  <thead>\n",
              "    <tr style=\"text-align: right;\">\n",
              "      <th></th>\n",
              "      <th>Question</th>\n",
              "      <th>Answer</th>\n",
              "      <th>Response Time (s)</th>\n",
              "      <th>Evaluation</th>\n",
              "    </tr>\n",
              "  </thead>\n",
              "  <tbody>\n",
              "    <tr>\n",
              "      <th>0</th>\n",
              "      <td>Can you identify the main AI and machine learn...</td>\n",
              "      <td>At NeurIPS 2023, Microsoft addressed several A...</td>\n",
              "      <td>64.734603</td>\n",
              "      <td>The response provided does not accurately refl...</td>\n",
              "    </tr>\n",
              "    <tr>\n",
              "      <th>1</th>\n",
              "      <td>How did Microsoft researchers address issues o...</td>\n",
              "      <td>Microsoft researchers addressed issues of bias...</td>\n",
              "      <td>42.653342</td>\n",
              "      <td>The previous response does not accurately refl...</td>\n",
              "    </tr>\n",
              "    <tr>\n",
              "      <th>2</th>\n",
              "      <td>How did Microsoft's research at NeurIPS 2023 c...</td>\n",
              "      <td>At NeurIPS 2023, Microsoft's research contribu...</td>\n",
              "      <td>43.728492</td>\n",
              "      <td>The response provided in the previous message ...</td>\n",
              "    </tr>\n",
              "    <tr>\n",
              "      <th>3</th>\n",
              "      <td>How do Microsoft's papers at NeurIPS contribut...</td>\n",
              "      <td>The requested information is not available in ...</td>\n",
              "      <td>15.770340</td>\n",
              "      <td>The response provided is accurate and adheres ...</td>\n",
              "    </tr>\n",
              "    <tr>\n",
              "      <th>4</th>\n",
              "      <td>How do Microsoft's NeurIPS 2023 submissions ad...</td>\n",
              "      <td>Microsoft's submissions to NeurIPS 2023 showca...</td>\n",
              "      <td>46.170979</td>\n",
              "      <td>The response provided does not accurately refl...</td>\n",
              "    </tr>\n",
              "    <tr>\n",
              "      <th>5</th>\n",
              "      <td>How do the results of Microsoft's [specific pa...</td>\n",
              "      <td>The requested information is not available in ...</td>\n",
              "      <td>15.426303</td>\n",
              "      <td>The response provided is out-of-domain as it d...</td>\n",
              "    </tr>\n",
              "  </tbody>\n",
              "</table>\n",
              "</div>"
            ],
            "text/plain": [
              "                                            Question  \\\n",
              "0  Can you identify the main AI and machine learn...   \n",
              "1  How did Microsoft researchers address issues o...   \n",
              "2  How did Microsoft's research at NeurIPS 2023 c...   \n",
              "3  How do Microsoft's papers at NeurIPS contribut...   \n",
              "4  How do Microsoft's NeurIPS 2023 submissions ad...   \n",
              "5  How do the results of Microsoft's [specific pa...   \n",
              "\n",
              "                                              Answer  Response Time (s)  \\\n",
              "0  At NeurIPS 2023, Microsoft addressed several A...          64.734603   \n",
              "1  Microsoft researchers addressed issues of bias...          42.653342   \n",
              "2  At NeurIPS 2023, Microsoft's research contribu...          43.728492   \n",
              "3  The requested information is not available in ...          15.770340   \n",
              "4  Microsoft's submissions to NeurIPS 2023 showca...          46.170979   \n",
              "5  The requested information is not available in ...          15.426303   \n",
              "\n",
              "                                          Evaluation  \n",
              "0  The response provided does not accurately refl...  \n",
              "1  The previous response does not accurately refl...  \n",
              "2  The response provided in the previous message ...  \n",
              "3  The response provided is accurate and adheres ...  \n",
              "4  The response provided does not accurately refl...  \n",
              "5  The response provided is out-of-domain as it d...  "
            ]
          },
          "execution_count": 8,
          "metadata": {},
          "output_type": "execute_result"
        }
      ],
      "source": [
        "output_dataset"
      ]
    },
    {
      "cell_type": "code",
      "execution_count": 9,
      "metadata": {
        "colab": {
          "base_uri": "https://localhost:8080/"
        },
        "id": "c6gvobzrHKnm",
        "outputId": "f5c83923-4302-4902-a1ed-57b4f7f90866"
      },
      "outputs": [
        {
          "name": "stdout",
          "output_type": "stream",
          "text": [
            "Processing complete. Results saved to output_data.xlsx\n"
          ]
        }
      ],
      "source": [
        "print(f\"Processing complete. Results saved to {output_file_path}\")"
      ]
    },
    {
      "cell_type": "code",
      "execution_count": 10,
      "metadata": {},
      "outputs": [
        {
          "name": "stdout",
          "output_type": "stream",
          "text": [
            "Question 0 processed succesfully\n",
            "Question 1 processed succesfully\n",
            "Question 2 processed succesfully\n",
            "Question 3 processed succesfully\n",
            "Question 4 processed succesfully\n",
            "Question 5 processed succesfully\n"
          ]
        }
      ],
      "source": [
        "\"\"\" Compare response Evaluation \"\"\"\n",
        "results = []\n",
        "for index, row in dataset.iterrows():\n",
        "    try:\n",
        "        if index > 5:\n",
        "            break\n",
        "        prompt = row[\"Prompt\"]\n",
        "        evaluate_response = evaluate_and_compare_prompt_responses(prompt)\n",
        "        results.append(evaluate_response)\n",
        "        print(f\"Question {index} processed succesfully\")\n",
        "    except Exception as e:\n",
        "        print(f\"Error Question {index} processed unsuccesfully: {e}\")\n",
        "        continue"
      ]
    },
    {
      "cell_type": "code",
      "execution_count": 11,
      "metadata": {},
      "outputs": [],
      "source": [
        "comparison_output_dataset = pd.DataFrame(results, columns=['Question', 'Answer 1', 'Answer 2', 'Response Time 1 (s)', 'Response Time 2 (s)', 'Evaluation',])"
      ]
    },
    {
      "cell_type": "code",
      "execution_count": 12,
      "metadata": {},
      "outputs": [],
      "source": [
        "output_file_path = 'comparison_output_data.xlsx'\n",
        "comparison_output_dataset.to_excel(output_file_path, index=False)"
      ]
    },
    {
      "cell_type": "code",
      "execution_count": 13,
      "metadata": {},
      "outputs": [
        {
          "data": {
            "text/html": [
              "<div>\n",
              "<style scoped>\n",
              "    .dataframe tbody tr th:only-of-type {\n",
              "        vertical-align: middle;\n",
              "    }\n",
              "\n",
              "    .dataframe tbody tr th {\n",
              "        vertical-align: top;\n",
              "    }\n",
              "\n",
              "    .dataframe thead th {\n",
              "        text-align: right;\n",
              "    }\n",
              "</style>\n",
              "<table border=\"1\" class=\"dataframe\">\n",
              "  <thead>\n",
              "    <tr style=\"text-align: right;\">\n",
              "      <th></th>\n",
              "      <th>Question</th>\n",
              "      <th>Answer 1</th>\n",
              "      <th>Answer 2</th>\n",
              "      <th>Response Time 1 (s)</th>\n",
              "      <th>Response Time 2 (s)</th>\n",
              "      <th>Evaluation</th>\n",
              "    </tr>\n",
              "  </thead>\n",
              "  <tbody>\n",
              "    <tr>\n",
              "      <th>0</th>\n",
              "      <td>Can you identify the main AI and machine learn...</td>\n",
              "      <td>The documents provided highlight several AI an...</td>\n",
              "      <td>The documents provided highlight several AI an...</td>\n",
              "      <td>54.410831</td>\n",
              "      <td>39.978988</td>\n",
              "      <td>Response 1 is better because it provides a com...</td>\n",
              "    </tr>\n",
              "    <tr>\n",
              "      <th>1</th>\n",
              "      <td>How did Microsoft researchers address issues o...</td>\n",
              "      <td>Microsoft researchers addressed issues of bias...</td>\n",
              "      <td>Microsoft researchers addressed issues of bias...</td>\n",
              "      <td>43.384945</td>\n",
              "      <td>45.587119</td>\n",
              "      <td>Both responses provide a comprehensive overvie...</td>\n",
              "    </tr>\n",
              "    <tr>\n",
              "      <th>2</th>\n",
              "      <td>How did Microsoft's research at NeurIPS 2023 c...</td>\n",
              "      <td>At NeurIPS 2023, Microsoft's research contribu...</td>\n",
              "      <td>Microsoft's participation in NeurIPS 2023 show...</td>\n",
              "      <td>41.860571</td>\n",
              "      <td>67.257051</td>\n",
              "      <td>Response 1 is better because it provides a com...</td>\n",
              "    </tr>\n",
              "    <tr>\n",
              "      <th>3</th>\n",
              "      <td>How do Microsoft's papers at NeurIPS contribut...</td>\n",
              "      <td>The requested information is not available in ...</td>\n",
              "      <td>The retrieved documents provide insights into ...</td>\n",
              "      <td>16.806266</td>\n",
              "      <td>63.990625</td>\n",
              "      <td>Response 2 is the better response because it d...</td>\n",
              "    </tr>\n",
              "    <tr>\n",
              "      <th>4</th>\n",
              "      <td>How do Microsoft's NeurIPS 2023 submissions ad...</td>\n",
              "      <td>Microsoft's submissions to NeurIPS 2023 showca...</td>\n",
              "      <td>Microsoft's submissions to NeurIPS 2023 showca...</td>\n",
              "      <td>61.104619</td>\n",
              "      <td>53.953210</td>\n",
              "      <td>Response 1 is better because it provides a mor...</td>\n",
              "    </tr>\n",
              "    <tr>\n",
              "      <th>5</th>\n",
              "      <td>How do the results of Microsoft's [specific pa...</td>\n",
              "      <td>The requested information is not available in ...</td>\n",
              "      <td>To provide an accurate and helpful response, I...</td>\n",
              "      <td>23.697385</td>\n",
              "      <td>15.934094</td>\n",
              "      <td>Response 2 is better because it engages with t...</td>\n",
              "    </tr>\n",
              "  </tbody>\n",
              "</table>\n",
              "</div>"
            ],
            "text/plain": [
              "                                            Question  \\\n",
              "0  Can you identify the main AI and machine learn...   \n",
              "1  How did Microsoft researchers address issues o...   \n",
              "2  How did Microsoft's research at NeurIPS 2023 c...   \n",
              "3  How do Microsoft's papers at NeurIPS contribut...   \n",
              "4  How do Microsoft's NeurIPS 2023 submissions ad...   \n",
              "5  How do the results of Microsoft's [specific pa...   \n",
              "\n",
              "                                            Answer 1  \\\n",
              "0  The documents provided highlight several AI an...   \n",
              "1  Microsoft researchers addressed issues of bias...   \n",
              "2  At NeurIPS 2023, Microsoft's research contribu...   \n",
              "3  The requested information is not available in ...   \n",
              "4  Microsoft's submissions to NeurIPS 2023 showca...   \n",
              "5  The requested information is not available in ...   \n",
              "\n",
              "                                            Answer 2  Response Time 1 (s)  \\\n",
              "0  The documents provided highlight several AI an...            54.410831   \n",
              "1  Microsoft researchers addressed issues of bias...            43.384945   \n",
              "2  Microsoft's participation in NeurIPS 2023 show...            41.860571   \n",
              "3  The retrieved documents provide insights into ...            16.806266   \n",
              "4  Microsoft's submissions to NeurIPS 2023 showca...            61.104619   \n",
              "5  To provide an accurate and helpful response, I...            23.697385   \n",
              "\n",
              "   Response Time 2 (s)                                         Evaluation  \n",
              "0            39.978988  Response 1 is better because it provides a com...  \n",
              "1            45.587119  Both responses provide a comprehensive overvie...  \n",
              "2            67.257051  Response 1 is better because it provides a com...  \n",
              "3            63.990625  Response 2 is the better response because it d...  \n",
              "4            53.953210  Response 1 is better because it provides a mor...  \n",
              "5            15.934094  Response 2 is better because it engages with t...  "
            ]
          },
          "execution_count": 13,
          "metadata": {},
          "output_type": "execute_result"
        }
      ],
      "source": [
        "comparison_output_dataset"
      ]
    },
    {
      "cell_type": "code",
      "execution_count": 14,
      "metadata": {},
      "outputs": [
        {
          "name": "stdout",
          "output_type": "stream",
          "text": [
            "Processing complete. Results saved to comparison_output_data.xlsx\n"
          ]
        }
      ],
      "source": [
        "print(f\"Processing complete. Results saved to {output_file_path}\")"
      ]
    }
  ],
  "metadata": {
    "colab": {
      "provenance": []
    },
    "kernelspec": {
      "display_name": "Python 3",
      "name": "python3"
    },
    "language_info": {
      "codemirror_mode": {
        "name": "ipython",
        "version": 3
      },
      "file_extension": ".py",
      "mimetype": "text/x-python",
      "name": "python",
      "nbconvert_exporter": "python",
      "pygments_lexer": "ipython3",
      "version": "3.11.7"
    }
  },
  "nbformat": 4,
  "nbformat_minor": 0
}
