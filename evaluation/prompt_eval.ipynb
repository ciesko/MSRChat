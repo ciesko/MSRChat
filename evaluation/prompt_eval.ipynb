{
  "cells": [
    {
      "cell_type": "code",
      "execution_count": 1,
      "metadata": {
        "id": "fm27HLB7UYJC"
      },
      "outputs": [
        {
          "data": {
            "text/plain": [
              "True"
            ]
          },
          "execution_count": 1,
          "metadata": {},
          "output_type": "execute_result"
        }
      ],
      "source": [
        "import pandas as pd   \n",
        "import requests \n",
        "import os \n",
        "import time\n",
        "from dotenv import load_dotenv\n",
        "\n",
        "load_dotenv()\n",
        "\n"
      ]
    },
    {
      "cell_type": "code",
      "execution_count": 2,
      "metadata": {
        "colab": {
          "base_uri": "https://localhost:8080/",
          "height": 1125
        },
        "id": "7O_FUGKBWyfk",
        "outputId": "eae6289d-c44e-4f7e-ceca-07c7f14ed657"
      },
      "outputs": [],
      "source": [
        "dataset = pd.read_excel('./prompt_library.xlsx')\n"
      ]
    },
    {
      "cell_type": "code",
      "execution_count": 3,
      "metadata": {
        "colab": {
          "base_uri": "https://localhost:8080/",
          "height": 206
        },
        "id": "rPg6Qr7LYPoU",
        "outputId": "e5641710-1bcc-438d-f9fb-723795336de1"
      },
      "outputs": [
        {
          "data": {
            "text/html": [
              "<div>\n",
              "<style scoped>\n",
              "    .dataframe tbody tr th:only-of-type {\n",
              "        vertical-align: middle;\n",
              "    }\n",
              "\n",
              "    .dataframe tbody tr th {\n",
              "        vertical-align: top;\n",
              "    }\n",
              "\n",
              "    .dataframe thead th {\n",
              "        text-align: right;\n",
              "    }\n",
              "</style>\n",
              "<table border=\"1\" class=\"dataframe\">\n",
              "  <thead>\n",
              "    <tr style=\"text-align: right;\">\n",
              "      <th></th>\n",
              "      <th>Prompt</th>\n",
              "    </tr>\n",
              "  </thead>\n",
              "  <tbody>\n",
              "    <tr>\n",
              "      <th>0</th>\n",
              "      <td>Are there any collaborative works between Micr...</td>\n",
              "    </tr>\n",
              "    <tr>\n",
              "      <th>1</th>\n",
              "      <td>Assess the potential impact of [Project Name] ...</td>\n",
              "    </tr>\n",
              "    <tr>\n",
              "      <th>2</th>\n",
              "      <td>Can we draw any parallels between Microsoft's ...</td>\n",
              "    </tr>\n",
              "    <tr>\n",
              "      <th>3</th>\n",
              "      <td>Can we identify any new patterns in the applic...</td>\n",
              "    </tr>\n",
              "    <tr>\n",
              "      <th>4</th>\n",
              "      <td>Can you help me understand the technical aspec...</td>\n",
              "    </tr>\n",
              "  </tbody>\n",
              "</table>\n",
              "</div>"
            ],
            "text/plain": [
              "                                              Prompt\n",
              "0  Are there any collaborative works between Micr...\n",
              "1  Assess the potential impact of [Project Name] ...\n",
              "2  Can we draw any parallels between Microsoft's ...\n",
              "3  Can we identify any new patterns in the applic...\n",
              "4  Can you help me understand the technical aspec..."
            ]
          },
          "execution_count": 3,
          "metadata": {},
          "output_type": "execute_result"
        }
      ],
      "source": [
        "dataset.head()"
      ]
    },
    {
      "cell_type": "code",
      "execution_count": 4,
      "metadata": {
        "id": "vFfYGc0YYjDl"
      },
      "outputs": [],
      "source": [
        "def get_response(question, response=None):\n",
        "    \"\"\"\n",
        "    Sends a POST request to the conversation API to obtain a response based on the given user question and optionally response from a previous question.\n",
        "\n",
        "    Parameters:\n",
        "    - question (str): The user's question to be sent to the conversation API from the excel file.\n",
        "    - response (dict or None): The optional AI response to be included in the conversation. If None, only the user's question is sent.\n",
        "\n",
        "    Environment Variables:\n",
        "    - PROMPT_EVAL_STRING: Evaluation string to be included in the user's messages which will be used to prompt the AI to evaluate its previous response.\n",
        "    - BASE_URL (required): The Base URL of the API. If not provided, defaults to \"http://127.0.0.1:5000\".\n",
        "    \n",
        "    \"\"\"\n",
        "    evaluation_string = os.environ.get(\"PROMPT_EVAL_STRING\")\n",
        "\n",
        "    base_url = os.environ.get(\"BASE_URL\", \"http://127.0.0.1:5000\") \n",
        "    url = f'{base_url}/conversation'\n",
        "    headers = {\n",
        "        \"content-type\": \"application/json\",\n",
        "    }\n",
        "    try:\n",
        "        if response:\n",
        "            data = {\n",
        "                \"messages\": [\n",
        "                    {\n",
        "                        \"role\": \"user\",\n",
        "                        \"content\": question,\n",
        "                    },\n",
        "                    {\n",
        "                        \"role\": \"tool\",\n",
        "                        \"content\": response[\"choices\"][0][\"messages\"][0][\"content\"],\n",
        "                    },\n",
        "                    {\n",
        "                        \"role\": \"assistant\",\n",
        "                        \"content\": response[\"choices\"][0][\"messages\"][1][\"content\"],\n",
        "                    },\n",
        "                    {\"role\": \"user\", \"content\": evaluation_string},\n",
        "                ]\n",
        "            }\n",
        "        else:\n",
        "            data = {\"messages\": [{\"role\": \"user\", \"content\": question}]}\n",
        "        response = requests.post(url, json=data, headers=headers)\n",
        "        if not response.status_code == 200:\n",
        "            print(\"POST request failed. Status code:\", response.status_code)\n",
        "            raise Exception\n",
        "\n",
        "        response_json = response.json()\n",
        "\n",
        "        return response_json\n",
        "\n",
        "    except (KeyError, IndexError) as e:\n",
        "        raise e"
      ]
    },
    {
      "cell_type": "code",
      "execution_count": 5,
      "metadata": {
        "id": "v4IH1lXkkUvT"
      },
      "outputs": [],
      "source": [
        "# Function to rate the answer\n",
        "def evaluate_response(response, question):\n",
        "  \"\"\"\n",
        "    Rate the quality of an AI-generated response based on the provided response and original user question.\n",
        "\n",
        "    Parameters:\n",
        "    - response (dict): The JSON response obtained from the conversation API, containing AI-generated response.\n",
        "    - question (str): The original user question.\n",
        "  \"\"\"\n",
        "  response = get_response(question=question, response=response)\n",
        "  evaluation = response[\"choices\"][0][\"messages\"][1][\"content\"]\n",
        "  return evaluation"
      ]
    },
    {
      "cell_type": "code",
      "execution_count": 6,
      "metadata": {
        "id": "IIzGp-BinlFl"
      },
      "outputs": [],
      "source": [
        "def process_row(row):\n",
        "    \"\"\"\n",
        "    Process a row of data containing a user question and obtain the AI-generated response along with an evaluation response/rating.\n",
        "\n",
        "    Parameters:\n",
        "    - row (dict): A dictionary representing a row of data, typically from a DataFrame, containing a 'Prompt' field.\n",
        "\n",
        "    \"\"\"\n",
        "    question = row['Prompt']\n",
        "    start_time = time.time()\n",
        "    response = get_response(question=question)\n",
        "    end_time = time.time()\n",
        "    answer  = response[\"choices\"][0][\"messages\"][1][\"content\"]\n",
        "    evaluation = evaluate_response(response=response, question=question)\n",
        "    response_time = end_time - start_time\n",
        "    return question, answer, evaluation, response_time"
      ]
    },
    {
      "cell_type": "code",
      "execution_count": null,
      "metadata": {
        "id": "h506yP1Qn000"
      },
      "outputs": [],
      "source": [
        "# Process each row and store the results in a new DataFrame\n",
        "results = []\n",
        "for index, row in dataset.iterrows():\n",
        "    try:\n",
        "        results.append(process_row(row))\n",
        "        print(f\"Question {index} processed succesfully\")\n",
        "    except Exception as e:\n",
        "        print(f\"Error Question {index} processed unsuccesfully\")\n",
        "        continue"
      ]
    },
    {
      "cell_type": "code",
      "execution_count": 8,
      "metadata": {
        "id": "UqBPzWy_Geck"
      },
      "outputs": [],
      "source": [
        "# Create a new DataFrame from the results\n",
        "output_dataset = pd.DataFrame(results, columns=['Question', 'Answer', 'Evaluation', 'Response Time (s)'])"
      ]
    },
    {
      "cell_type": "code",
      "execution_count": 9,
      "metadata": {
        "id": "7ztF3XQEG5a9"
      },
      "outputs": [],
      "source": [
        "# Write the new DataFrame to a new Excel file\n",
        "output_file_path = 'output_data.xlsx'\n",
        "output_dataset.to_excel(output_file_path, index=False)"
      ]
    },
    {
      "cell_type": "code",
      "execution_count": 10,
      "metadata": {
        "colab": {
          "base_uri": "https://localhost:8080/",
          "height": 1338
        },
        "id": "hy0-BN3tHTuT",
        "outputId": "f43dada1-8eb3-46eb-823f-d2809799d6b8"
      },
      "outputs": [
        {
          "data": {
            "text/html": [
              "<div>\n",
              "<style scoped>\n",
              "    .dataframe tbody tr th:only-of-type {\n",
              "        vertical-align: middle;\n",
              "    }\n",
              "\n",
              "    .dataframe tbody tr th {\n",
              "        vertical-align: top;\n",
              "    }\n",
              "\n",
              "    .dataframe thead th {\n",
              "        text-align: right;\n",
              "    }\n",
              "</style>\n",
              "<table border=\"1\" class=\"dataframe\">\n",
              "  <thead>\n",
              "    <tr style=\"text-align: right;\">\n",
              "      <th></th>\n",
              "      <th>Question</th>\n",
              "      <th>Answer</th>\n",
              "      <th>Evaluation</th>\n",
              "      <th>Response Time (s)</th>\n",
              "    </tr>\n",
              "  </thead>\n",
              "  <tbody>\n",
              "    <tr>\n",
              "      <th>0</th>\n",
              "      <td>Are there any collaborative works between Micr...</td>\n",
              "      <td>Yes, there are collaborative works between Mic...</td>\n",
              "      <td>The response provided in the previous interact...</td>\n",
              "      <td>60.826001</td>\n",
              "    </tr>\n",
              "    <tr>\n",
              "      <th>1</th>\n",
              "      <td>Assess the potential impact of [Project Name] ...</td>\n",
              "      <td>The requested information is not available in ...</td>\n",
              "      <td>The user query is a request to assess the qual...</td>\n",
              "      <td>21.279244</td>\n",
              "    </tr>\n",
              "    <tr>\n",
              "      <th>2</th>\n",
              "      <td>Can we draw any parallels between Microsoft's ...</td>\n",
              "      <td>The retrieved documents provide insights into ...</td>\n",
              "      <td>The response provided does not align with the ...</td>\n",
              "      <td>101.887679</td>\n",
              "    </tr>\n",
              "    <tr>\n",
              "      <th>3</th>\n",
              "      <td>Can we identify any new patterns in the applic...</td>\n",
              "      <td>The requested information is not available in ...</td>\n",
              "      <td>The response provided is in line with the inst...</td>\n",
              "      <td>16.669292</td>\n",
              "    </tr>\n",
              "    <tr>\n",
              "      <th>4</th>\n",
              "      <td>Can you help me understand the technical aspec...</td>\n",
              "      <td>The requested information is not available in ...</td>\n",
              "      <td>The response provided to the user's initial qu...</td>\n",
              "      <td>18.022013</td>\n",
              "    </tr>\n",
              "    <tr>\n",
              "      <th>...</th>\n",
              "      <td>...</td>\n",
              "      <td>...</td>\n",
              "      <td>...</td>\n",
              "      <td>...</td>\n",
              "    </tr>\n",
              "    <tr>\n",
              "      <th>135</th>\n",
              "      <td>What technical innovations has MSR introduced ...</td>\n",
              "      <td>Microsoft Research (MSR) has introduced severa...</td>\n",
              "      <td>The response provided by the assistant does no...</td>\n",
              "      <td>88.390844</td>\n",
              "    </tr>\n",
              "    <tr>\n",
              "      <th>136</th>\n",
              "      <td>How is MSR's research tackling the challenge o...</td>\n",
              "      <td>Microsoft Research (MSR) is addressing the cha...</td>\n",
              "      <td>The response provided to the user's question a...</td>\n",
              "      <td>54.146109</td>\n",
              "    </tr>\n",
              "    <tr>\n",
              "      <th>137</th>\n",
              "      <td>What are the cutting-edge techniques being use...</td>\n",
              "      <td>The retrieved documents highlight several cutt...</td>\n",
              "      <td>The response provided cannot be evaluated for ...</td>\n",
              "      <td>65.400857</td>\n",
              "    </tr>\n",
              "    <tr>\n",
              "      <th>138</th>\n",
              "      <td>What kind of problems is MSR's AI research try...</td>\n",
              "      <td>Microsoft Research (MSR) is actively working o...</td>\n",
              "      <td>The response provided is comprehensive and wel...</td>\n",
              "      <td>55.280129</td>\n",
              "    </tr>\n",
              "    <tr>\n",
              "      <th>139</th>\n",
              "      <td>Can you tell me about something new and exciti...</td>\n",
              "      <td>At the NeurIPS 2023 conference, Microsoft high...</td>\n",
              "      <td>The response provided does not contain any inf...</td>\n",
              "      <td>45.777341</td>\n",
              "    </tr>\n",
              "  </tbody>\n",
              "</table>\n",
              "<p>140 rows × 4 columns</p>\n",
              "</div>"
            ],
            "text/plain": [
              "                                              Question  \\\n",
              "0    Are there any collaborative works between Micr...   \n",
              "1    Assess the potential impact of [Project Name] ...   \n",
              "2    Can we draw any parallels between Microsoft's ...   \n",
              "3    Can we identify any new patterns in the applic...   \n",
              "4    Can you help me understand the technical aspec...   \n",
              "..                                                 ...   \n",
              "135  What technical innovations has MSR introduced ...   \n",
              "136  How is MSR's research tackling the challenge o...   \n",
              "137  What are the cutting-edge techniques being use...   \n",
              "138  What kind of problems is MSR's AI research try...   \n",
              "139  Can you tell me about something new and exciti...   \n",
              "\n",
              "                                                Answer  \\\n",
              "0    Yes, there are collaborative works between Mic...   \n",
              "1    The requested information is not available in ...   \n",
              "2    The retrieved documents provide insights into ...   \n",
              "3    The requested information is not available in ...   \n",
              "4    The requested information is not available in ...   \n",
              "..                                                 ...   \n",
              "135  Microsoft Research (MSR) has introduced severa...   \n",
              "136  Microsoft Research (MSR) is addressing the cha...   \n",
              "137  The retrieved documents highlight several cutt...   \n",
              "138  Microsoft Research (MSR) is actively working o...   \n",
              "139  At the NeurIPS 2023 conference, Microsoft high...   \n",
              "\n",
              "                                            Evaluation  Response Time (s)  \n",
              "0    The response provided in the previous interact...          60.826001  \n",
              "1    The user query is a request to assess the qual...          21.279244  \n",
              "2    The response provided does not align with the ...         101.887679  \n",
              "3    The response provided is in line with the inst...          16.669292  \n",
              "4    The response provided to the user's initial qu...          18.022013  \n",
              "..                                                 ...                ...  \n",
              "135  The response provided by the assistant does no...          88.390844  \n",
              "136  The response provided to the user's question a...          54.146109  \n",
              "137  The response provided cannot be evaluated for ...          65.400857  \n",
              "138  The response provided is comprehensive and wel...          55.280129  \n",
              "139  The response provided does not contain any inf...          45.777341  \n",
              "\n",
              "[140 rows x 4 columns]"
            ]
          },
          "execution_count": 10,
          "metadata": {},
          "output_type": "execute_result"
        }
      ],
      "source": [
        "output_dataset"
      ]
    },
    {
      "cell_type": "code",
      "execution_count": 11,
      "metadata": {
        "colab": {
          "base_uri": "https://localhost:8080/"
        },
        "id": "c6gvobzrHKnm",
        "outputId": "f5c83923-4302-4902-a1ed-57b4f7f90866"
      },
      "outputs": [
        {
          "name": "stdout",
          "output_type": "stream",
          "text": [
            "Processing complete. Results saved to output_data.xlsx\n"
          ]
        }
      ],
      "source": [
        "print(f\"Processing complete. Results saved to {output_file_path}\")"
      ]
    }
  ],
  "metadata": {
    "colab": {
      "provenance": []
    },
    "kernelspec": {
      "display_name": "Python 3",
      "name": "python3"
    },
    "language_info": {
      "codemirror_mode": {
        "name": "ipython",
        "version": 3
      },
      "file_extension": ".py",
      "mimetype": "text/x-python",
      "name": "python",
      "nbconvert_exporter": "python",
      "pygments_lexer": "ipython3",
      "version": "3.11.7"
    }
  },
  "nbformat": 4,
  "nbformat_minor": 0
}
